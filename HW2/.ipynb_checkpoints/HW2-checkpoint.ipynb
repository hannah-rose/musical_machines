{
 "cells": [
  {
   "cell_type": "markdown",
   "metadata": {},
   "source": [
    "Homework 2 — (15 points)\n",
    "======\n",
    "### What to hand in\n",
    "You are to submit the following things for this homework:\n",
    "1. A Jupyter notebook containing all code and output (figures and audio). I should be able to evaluate the file to reproduce all output. \n",
    "1. Any other data that we tell you to save to a file (e.g. audio files).\n",
    "\n",
    "### How to hand it in\n",
    "To submit your lab:\n",
    "1. Compress all of the files specified into a .zip file. \n",
    "1. Name the file in the following manner, firstname_lastname_hw1.zip. For example, Bryan_Pardo_hw1.zip. \n",
    "1. Submit this .zip file via Canvas"
   ]
  },
  {
   "cell_type": "code",
   "execution_count": 1,
   "metadata": {
    "collapsed": false
   },
   "outputs": [
    {
     "name": "stdout",
     "output_type": "stream",
     "text": [
      "!ruof fo ylimaf a deef nac azzip egral A ?retirwgnos regnis a dna azzip egral a neewteb ecnereffid eht stahW :Q\n"
     ]
    }
   ],
   "source": [
    "str ='Q: Whats the difference between a large pizza and a singer songwriter? A large pizza can feed a family of four!'\n",
    "print(str[::-1])"
   ]
  },
  {
   "cell_type": "markdown",
   "metadata": {},
   "source": [
    "## Run this code block 1st, to import some needed packages"
   ]
  },
  {
   "cell_type": "code",
   "execution_count": 2,
   "metadata": {
    "collapsed": false
   },
   "outputs": [
    {
     "name": "stderr",
     "output_type": "stream",
     "text": [
      "/home/harntson/miniconda2/envs/eecs352/lib/python2.7/site-packages/librosa/core/audio.py:37: UserWarning: Could not import scikits.samplerate. Falling back to scipy.signal\n",
      "  warnings.warn('Could not import scikits.samplerate. '\n"
     ]
    }
   ],
   "source": [
    "# This line is a convenience to import most packages you'll need. You may need to import others (eg random and cmath)\n",
    "import IPython, numpy as np, scipy as sp, matplotlib.pyplot as plt, matplotlib, sklearn, librosa, cmath,math\n",
    "from IPython.display import Audio\n",
    " \n",
    "# This line makes sure your plots happen IN the webpage you're building, instead of in separate windows.\n",
    "%matplotlib inline\n",
    "\n",
    "# Feel free to add some other imports here, if that is helpful\n",
    "\n"
   ]
  },
  {
   "cell_type": "markdown",
   "metadata": {},
   "source": [
    "## Implementing a spectrogram "
   ]
  },
  {
   "cell_type": "markdown",
   "metadata": {},
   "source": [
    "#### 1. (2 points) Make a short term Fourier transform (STFT) function.  "
   ]
  },
  {
   "cell_type": "code",
   "execution_count": 67,
   "metadata": {
    "collapsed": false
   },
   "outputs": [],
   "source": [
    "from scipy.fftpack import fft\n",
    "from scipy.signal import hann\n",
    "\n",
    "def stft(signal, window_size, hop_size, window_type = 'hann'):\n",
    "    \"\"\"\n",
    "    Computes the short term fourier transform of a 1-D numpy array, where the array \n",
    "    is windowed into a set of subarrays, each of length window_size. The distance between\n",
    "    window centers (in samples) is given by hop_size. The type of window applied is\n",
    "    determined by window_type. This returns a 2-D numpy array where the ith column\n",
    "    is the FFT of the ith window. Each column contains an array of complex values.\n",
    "    \n",
    "    Input Parameters\n",
    "    ----------------\n",
    "    signal: The 1-d (complex or real) numpy array containing the signal\n",
    "    window_size: an integer scalar specifying the number of samples in a window\n",
    "    hop_size: an integer specifying the number of samples between the start of adjacent windows\n",
    "    window_type: a string specifying one of two \"hann\" or \"rectangular\"\n",
    "    \n",
    "    Returns\n",
    "    -------\n",
    "    a 2D numpy array of complex numbers where the array column is the FFT of the ith window,\n",
    "    and the jth element in the ith column is the jth frequency of analysis.\n",
    "    \"\"\"\n",
    "    #---------------------\n",
    "    # your code goes below\n",
    "    #---------------------\n",
    "    \n",
    "    # Calculate the number of windows\n",
    "    n = len(signal)\n",
    "    n_win = ( (float(n)-window_size) / (hop_size) ) + 1\n",
    "    \n",
    "    # Append zeros if necessary\n",
    "    if math.ceil(n_win) > n_win:\n",
    "        n_pad = int( ((math.ceil(n_win) - 1) * (hop_size)) + window_size)\n",
    "        signal = np.lib.pad(signal, (0, n_pad-n,), 'constant')\n",
    "   \n",
    "    n_win = int(math.ceil(n_win))\n",
    "    \n",
    "    # Array of windows\n",
    "    windows = np.zeros((window_size, n_win))\n",
    "    for i in range(n_win):\n",
    "        windows[:,i] = signal[i*hop_size : i*hop_size + window_size]\n",
    "        \n",
    "    print windows\n",
    "    \n",
    "    \n",
    "    \n",
    "    "
   ]
  },
  {
   "cell_type": "code",
   "execution_count": 65,
   "metadata": {
    "collapsed": false
   },
   "outputs": [],
   "source": [
    "# Test\n",
    "sig = [1, 2, 3, 4, 5, 6, 7, 8, 9, 10]\n",
    "sig = np.array(sig)\n",
    "\n",
    "stft(sig, 5, 2)"
   ]
  },
  {
   "cell_type": "markdown",
   "metadata": {},
   "source": [
    "#### 2. (2 points) \n",
    "1. **Make a signal $S$ of length 300 that has 1 for every one of its 300 samples.** \n",
    "1. **Make a signal $W_1$ by windowing signal $S$ with a Hann window of length 200, starting at index 0.**  \n",
    "1. **Make signal $W_2$ by windowing signal $S$ with a Hann window of length 200, starting at index 100.** \n",
    "1. **Now....make a reconstruction of $S$ from $W_1$ and $W_2$ by overlapping the two windowed signals 50% (the same way you took them from $S$ and adding them together....where $W_1[100]$ would aling with $W_2[0]$. This is called \"overlap and add.\" **\n",
    "\n",
    "**How much does the reconstructed signal look like the original? What happens if these windows are not overlapped 50%, but by some other amount?**   "
   ]
  },
  {
   "cell_type": "markdown",
   "metadata": {},
   "source": [
    "your answer goes here"
   ]
  },
  {
   "cell_type": "code",
   "execution_count": null,
   "metadata": {
    "collapsed": true
   },
   "outputs": [],
   "source": [
    "#---------------------\n",
    "# your code goes below\n",
    "#---------------------"
   ]
  },
  {
   "cell_type": "markdown",
   "metadata": {},
   "source": [
    "#### 3. (2 points) Make an inverse STFT function to rebuild the original audio signal, using overlap & add resynthesis. You don't need to use a window function here."
   ]
  },
  {
   "cell_type": "code",
   "execution_count": null,
   "metadata": {
    "collapsed": true
   },
   "outputs": [],
   "source": [
    "from scipy.fftpack import ifft\n",
    "\n",
    "def istft(X, hop_size):\n",
    "    \"\"\"\n",
    "    Takes a 2-D numpy array representing an STFT of some signal, where stft[i] \n",
    "    is the FFT of the ith window as input and stft[i,k] is the kth frequency of analysis.\n",
    "    Performs an inverse FFT on each window and then does overlap & add resynthesis to rebuild \n",
    "    the original signal the STFT was built from.\n",
    "    \n",
    "    Input Parameters\n",
    "    ----------------\n",
    "    X: a 2-D numpy array of complex numbers representing an STFT, where the ith \n",
    "    column is the FFT of the ith window, and the jth row is the jth frequency of analysis.\n",
    "        \n",
    "    hop_size: an integer specifying the number of samples between the start of adjacent windows.\n",
    "        \n",
    "    Returns\n",
    "    -------\n",
    "    a 1-d numpy array of (possibly complex) values representing the original signal used to make X\n",
    "    \"\"\"\n",
    "    #---------------------\n",
    "    # your code goes below\n",
    "    #---------------------"
   ]
  },
  {
   "cell_type": "markdown",
   "metadata": {},
   "source": [
    "#### 4. (2 points) Display a magnitude spectrogram of an audio signal. Amplitude must be in dB. Correct frequencies must be displayed. Display only frequencies up to the Nyquist rate.  Time must be displayed in seconds. NOTE: you cannot use any functions in librosa to do this."
   ]
  },
  {
   "cell_type": "code",
   "execution_count": null,
   "metadata": {
    "collapsed": false
   },
   "outputs": [],
   "source": [
    "def spectrogram(signal, window_size, hop_size, sample_rate, window_type = 'hann', display = 1 ):\n",
    "    \"\"\"\n",
    "    Computes the short term fourier transform of a 1-D numpy array, where the array \n",
    "    is windowed into a set of subarrays, each of length window_size. The distance between\n",
    "    window centers (in samples) is given by hop_size. The type of window applied is\n",
    "    determined by window_type. This creates a 2-D numpy array where the ith column\n",
    "    is the FFT of the ith window. Each column contains an array of complex values.\n",
    "    It then creates a magnitude spectrogram of the signal and plots it on the screen.\n",
    "    Here, the vertical dimension is frequency (in Hz), the horizontal dimension is time\n",
    "    (in seconds), brightness corresponds to amplitude (in dB). Only frequencies up to\n",
    "    the Nyquist rate are displayed.\n",
    "    \n",
    "    Input Parameters\n",
    "    ----------------\n",
    "    signal: The 1-d (complex or real) numpy array containing the signal\n",
    "    window_size: an integer scalar specifying the number of samples in a window\n",
    "    hop_size: an integer specifying the number of samples between the start of adjacent windows\n",
    "    sample_rate: an integer giving the sample rate of the input signal, in Hz\n",
    "    window_type: a string specifying one of two \"hann\" or \"rectangular\"\n",
    "    display: an integer. If set to 1, it plots the spectrogram. Else it does not.\n",
    "    \n",
    "    Returns\n",
    "    -------\n",
    "    an output tuple with 3 items\n",
    "    \n",
    "    sgram:  a 2-D numpy array of real-valued numbers that contains the magnitude spectrogram\n",
    "           sgram[t,f] is the magnitude at time t and frequency f. This only contains values\n",
    "           up to the nyquist frequency\n",
    "    times: a 1-D numpy array of non-negative real-values that gives the times,  \n",
    "           times[t] gives the start time of the tth window in seconds\n",
    "    freqs: a 1-D numpy array  of non-negative real values. freqs[f] gives the fth\n",
    "           frequency of analysis in Hz, up to the nyquist frequency\n",
    "           \n",
    "    Calling Example\n",
    "    ---------------\n",
    "    sgram,times,freqs = spectrogram(signal, window_size, hop_size, sample_rate )\n",
    "\n",
    "    \"\"\" \n",
    "    #---------------------\n",
    "    # your code goes below\n",
    "    #---------------------"
   ]
  },
  {
   "cell_type": "markdown",
   "metadata": {},
   "source": [
    "## Manipulating audio"
   ]
  },
  {
   "cell_type": "markdown",
   "metadata": {},
   "source": [
    "#### 5. (1 point) Increase the speed of playback for the file piano.wav by 25%...but don't change the pitch. (don't use librosa)"
   ]
  },
  {
   "cell_type": "code",
   "execution_count": null,
   "metadata": {
    "collapsed": false
   },
   "outputs": [],
   "source": [
    "#---------------------\n",
    "# your code goes below\n",
    "#---------------------\n",
    "\n"
   ]
  },
  {
   "cell_type": "markdown",
   "metadata": {},
   "source": [
    "#### 6. (1 point) Now increase the pitch of file piano.wav by  two musical whole steps without changing the duration of the audio. (again.... don't use librosa)"
   ]
  },
  {
   "cell_type": "code",
   "execution_count": null,
   "metadata": {
    "collapsed": false
   },
   "outputs": [],
   "source": [
    "#---------------------\n",
    "# your code goes below\n",
    "#---------------------\n"
   ]
  },
  {
   "cell_type": "markdown",
   "metadata": {},
   "source": [
    "## Log Frequency "
   ]
  },
  {
   "cell_type": "markdown",
   "metadata": {},
   "source": [
    "#### 7. ( 2 points) Write a function that emulates triangular filters in the frequency domain. This function will be used to map from the linearly spaced frequencies of the STFT to another specified set of frequencies, with arbitrary spacing.\n",
    "\n"
   ]
  },
  {
   "cell_type": "code",
   "execution_count": null,
   "metadata": {
    "collapsed": false
   },
   "outputs": [],
   "source": [
    "def make_triangular_filters(cfreqs, freqs ):\n",
    "    \"\"\"\n",
    "    Computes a set of \"filters\" to apply to an STFT to change its frequency scaling.\n",
    "    This takes an array of center frequencies (cfreqs) and a set of frequencies of \n",
    "    analysis (freqs) as input, both coded in Hz.  It will return a 2-D numpy array \n",
    "    filters[c][f], where c is the index number of a center frequency in cfreqs and \n",
    "    f is the index to a frequency in freqs and the value in filters[c][f] is a number \n",
    "    between 0 and 1 that represents how sensitive this filter is to that frequency.  \n",
    "    Filters are triangular, with a linear decrease in sensitivity from the center \n",
    "    frequency (sensitivity = 1) down to a sensitivity of 0 by the center frequency \n",
    "    of each adjacent freqency.\n",
    "    \n",
    "    Input Parameters\n",
    "    ----------------\n",
    "    cfreqs: a 1-D python array of center frequencies measured in Hz\n",
    "    freqs:   a 1-D python array of frequencies for whom we need to calculate the sensitivity\n",
    "             of each filter\n",
    "    \n",
    "    Returns\n",
    "    -------\n",
    "    filters: a 2-D numpy array, where c is the index number of a center frequency in \n",
    "            cfreqs and f is the index to a frequency in freqs and the value in filters[c][f] \n",
    "            is a number between 0 and 1 that represents how sensitive this filter is to \n",
    "            that frequency.\n",
    "    \"\"\"\n",
    "    #---------------------\n",
    "    # your code goes below\n",
    "    #---------------------"
   ]
  },
  {
   "cell_type": "markdown",
   "metadata": {},
   "source": [
    "#### 8. (1 point) You have been given a set of input frequencies spaced 1 Hz apart and ranging from the bottom piano note to the top note...and a second set of a center frequencies that are spaced with 1 per key on the piano. Use your code from problem 7 to create a filterbank, mapping the energy from the first set of frequencies to the second set of frequencies. Then display the filterbank as a 2-D image where the vertical dimension is freq in Hz, the horizontal dimension is the index of a filter (i.e. the piano key number) and the color gives the strength of the filter response. Label your dimensions. Also, give a list of the piano key frequencies below the plot. "
   ]
  },
  {
   "cell_type": "code",
   "execution_count": null,
   "metadata": {
    "collapsed": false
   },
   "outputs": [],
   "source": [
    "# A440 is 39 keys from the top of the piano and 44 keys from the bottom\n",
    "top_piano_note =  440*2**(39.0/12)\n",
    "bottom_piano_note = 440*2**(-48.0/12)\n",
    "\n",
    "# our frequencies will be spaced 1 Hz appart in this domain\n",
    "freqs = np.linspace(bottom_piano_note,top_piano_note,(top_piano_note-bottom_piano_note + 1))\n",
    "\n",
    "# our center frequencies will be spaced with one per piano note\n",
    "cfreqs = bottom_piano_note * np.logspace(0, 87.0/12, 88, base=2)\n",
    "\n",
    "#---------------------\n",
    "# your code goes below\n",
    "#---------------------\n"
   ]
  },
  {
   "cell_type": "markdown",
   "metadata": {},
   "source": [
    "#### 9. (2 point)  Use the mapping from frequency $f$ to mel $m$ defined in (1) to make a mel-frequency filter bank with 40 filters, evenly spaced in mels, that covers the same range as the piano-note spaced filterbank.  Display a plot of it. Give a list of the mel frequencies (in Hz). Do you think this number of filters and spacing appropriately captures the salient aspects of music? Why or why not?\n",
    "\n",
    "$m = 2595log_{10}(1+\\frac{f}{700})$\n",
    "\n",
    "(1) Douglas O'Shaughnessy (1987). Speech communication: human and machine. Addison-Wesley. p. 150. ISBN 978-0-201-16520-3."
   ]
  },
  {
   "cell_type": "markdown",
   "metadata": {},
   "source": [
    "your answer (including math) goes here\n",
    "\n",
    "\n",
    "\n"
   ]
  },
  {
   "cell_type": "code",
   "execution_count": null,
   "metadata": {
    "collapsed": false
   },
   "outputs": [],
   "source": [
    "#---------------------\n",
    "# your code goes below\n",
    "#---------------------"
   ]
  }
 ],
 "metadata": {
  "kernelspec": {
   "display_name": "Python 2",
   "language": "python",
   "name": "python2"
  },
  "language_info": {
   "codemirror_mode": {
    "name": "ipython",
    "version": 2
   },
   "file_extension": ".py",
   "mimetype": "text/x-python",
   "name": "python",
   "nbconvert_exporter": "python",
   "pygments_lexer": "ipython2",
   "version": "2.7.11"
  }
 },
 "nbformat": 4,
 "nbformat_minor": 0
}
